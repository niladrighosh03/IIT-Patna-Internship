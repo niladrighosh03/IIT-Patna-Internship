{
 "cells": [
  {
   "cell_type": "code",
   "execution_count": 1,
   "id": "d81fcd20",
   "metadata": {},
   "outputs": [
    {
     "name": "stdout",
     "output_type": "stream",
     "text": [
      "Loading model and tokenizer...\n"
     ]
    },
    {
     "name": "stderr",
     "output_type": "stream",
     "text": [
      "/DATA/rohan_kirti/miniconda3/envs/nilenv/lib/python3.11/site-packages/tqdm/auto.py:21: TqdmWarning: IProgress not found. Please update jupyter and ipywidgets. See https://ipywidgets.readthedocs.io/en/stable/user_install.html\n",
      "  from .autonotebook import tqdm as notebook_tqdm\n",
      "Loading checkpoint shards: 100%|██████████| 6/6 [00:07<00:00,  1.30s/it]\n"
     ]
    }
   ],
   "source": [
    "print(\"Loading model and tokenizer...\")\n",
    "import torch\n",
    "from transformers import AutoModelForCausalLM, AutoTokenizer, pipeline\n",
    "\n",
    "model_name = \"microsoft/Phi-3-medium-128k-instruct\"\n",
    "\n",
    "model = AutoModelForCausalLM.from_pretrained(\n",
    "    model_name,\n",
    "    torch_dtype=\"auto\",\n",
    "    device_map=\"auto\"\n",
    ")\n",
    "tokenizer = AutoTokenizer.from_pretrained(model_name)\n"
   ]
  },
  {
   "cell_type": "code",
   "execution_count": 2,
   "id": "32ea63dc",
   "metadata": {},
   "outputs": [
    {
     "name": "stderr",
     "output_type": "stream",
     "text": [
      "Device set to use cuda:0\n"
     ]
    }
   ],
   "source": [
    "pipe = pipeline(\n",
    "    \"text-generation\",\n",
    "    model=model,\n",
    "    tokenizer=tokenizer,\n",
    ")\n",
    "\n",
    "generation_args = {\n",
    "    \"max_new_tokens\": 500,\n",
    "    \"return_full_text\": False,\n",
    "    \"temperature\": 0.7,\n",
    "    \"do_sample\": True,\n",
    "}"
   ]
  },
  {
   "cell_type": "code",
   "execution_count": 3,
   "id": "06468fe0",
   "metadata": {},
   "outputs": [],
   "source": [
    "def generate(sentence:str):\n",
    "    prompt = f\"\"\"You are a Persuasion Strategy labeling expert.\n",
    "    You are given an utterance.  \n",
    "Your task is to identify and label the persuasion strategy it uses from the defined list of six strategies.  \n",
    "You must also clearly explain why that strategy was chosen, and your explanation MUST be enclosed inside <reason> and </reason> tags exactly.  \n",
    "\n",
    "\n",
    "\n",
    " Guidelines for labeling:  \n",
    "- Read the utterance carefully and determine its primary persuasion approach.  \n",
    "- Select the persuasion strategy whose description aligns most closely with the utterance's content and intent.  \n",
    "- When writing the reasoning, explain the specific features, keywords, or message style in the utterance that make it fit the chosen persuasion strategy.  \n",
    "- The reasoning MUST be enclosed inside <reason> and </reason> tags — this is mandatory.  \n",
    "- Be concise but clear, ensuring the explanation makes it obvious why that persuasion type applies.  \n",
    "\n",
    "\n",
    "\n",
    "### Persuasion strategies:  \n",
    "\n",
    "1. Logical appeal – Uses factual reasoning, statistics, verifiable claims, comparisons, or cost–benefit arguments to persuade.  \n",
    "   - Even if one factual statement or claim is present (e.g., a price comparison, performance data, or measurable outcome), it qualifies as logical appeal, unless another strategy’s intent is more dominant.  \n",
    "   - Examples: “ Welcome! I'm glad to help you with motor insurance for your new Tesla Model 3. Our policies offer comprehensive coverage for electric vehicles, including battery protection. Let's discuss the options that best suit your needs.” / “ We have several add-on covers that can enhance your insurance policy for the Royal Enfield Himalayan. Consider options like engine protection, zero depreciation, and roadside assistance to ensure comprehensive coverage for your bike. Let's discuss which add-ons would be most beneficial for you.”  \n",
    "\n",
    "2. Credibility appeal – Builds trust by emphasizing the trustworthiness, expertise, qualifications, or proven track record of the provider or source.  \n",
    "   - This includes references to awards, rankings, certifications, industry recognition, or customer satisfaction ratings.  \n",
    "   - Example indicators: “ Bajaj Allianz is a trusted name in the insurance industry, known for its comprehensive coverage and quick claim settlement process. They offer a range of motor insurance plans tailored to meet the specific needs of bike owners like you. Let's explore the options together to find the perfect fit for your Royal Enfield Interceptor 650.”, “ Of course! I'd be happy to provide a quote for comprehensive coverage and roadside assistance for your 2022 Royal Enfield Classic 350. Let's work together to find the best plan that fits your needs and budget. I'll send you the quote shortly.”  \n",
    "\n",
    "3. Emotional appeal – Persuades by evoking emotions such as safety, comfort, fear, pride, hope, or peace of mind.  \n",
    "   - Often uses reassuring or emotive language to create a personal emotional response rather than presenting objective facts.  \n",
    "   - Example indicators: “ We're glad to hear you're interested in roadside assistance. Our partner, Reliance General, offers excellent roadside assistance services, including battery jump-starts, tire changes, and towing, to ensure you're never stranded on the road. Let's review the plans that include this valuable feature.”, “ Our comprehensive plan also includes roadside assistance specifically for electric vehicles. This means you'll have help whenever you need it, whether it's charging assistance, towing, or battery jump-starting. We want to make sure you're always on the move with confidence.”  \n",
    "\n",
    "4. Personal appeal – Directly tailors the recommendation to the specific needs, concerns, or requests that the user has previously expressed.  \n",
    "   - This strategy explicitly references what the user wants or has stated, making it a targeted recommendation.  \n",
    "   - Example indicators: “ Wonderful! I'm delighted to help you secure comprehensive coverage for your 2022 Tesla Model 3. Let's proceed with setting up a policy that suits your needs and budget. I'm here to guide you through the process and answer any questions you may have along the way. Looking forward to working with you!”, “ I'm glad to hear that you find our motor insurance policy for your 2021 Yamaha MT-07 reassuring. We're here to help you protect your bike and ensure you're covered in case of an accident. Let's proceed with the policy details and finalize the coverage that best suits your needs and budget. If you have any questions or concerns, feel free to ask. We're here to help!”  \n",
    "\n",
    "5. Persona appeal – Connects the recommendation to the user’s lifestyle, habits, values, or identity rather than a specific request.  \n",
    "   - Often uses “if you are the kind of person who…” framing or aligns features with an implied personality type.  \n",
    "   - Example indicators: “ Welcome! I'm delighted to help you with your motor insurance needs for your new 2024 Tesla Model 3. To ensure we provide the best coverage for your electric vehicle, I'd be happy to provide a personalized quote. Let's get started!”, “ I'm delighted to help you with your insurance needs for your new 2024 Tata Nexon EV. We have tailored coverage options specifically for electric vehicles, ensuring your investment is well-protected. Let's discuss the best plan for you. Shall we get started?”  \n",
    "\n",
    "6. Default – Provides neutral, purely descriptive information without persuasive elements.  \n",
    "   - No attempt to influence the decision is made; it is strictly informational.  \n",
    "   - Example indicators: “ You're welcome! I'm glad you find the quote helpful. If you have any questions or need further assistance, feel free to ask. We're here to help you make an informed decision about your motor insurance. Have a great day!” , \" You're welcome! I'm glad I could help you find an affordable and comprehensive motor insurance policy for your Yamaha R15. I've sent a personalized quote to your email. If you have any questions or need further assistance, feel free to reach out. Enjoy your weekend rides with peace of mind!\" \n",
    "\n",
    "\n",
    "\n",
    "Output format:  \n",
    "\n",
    "Label: <strategy name>  \n",
    "<reason>Reasoning for why this strategy was chosen, based on utterance features.</reason>  \n",
    "\n",
    "\n",
    "Example 1:  \n",
    "Sentence: \"This plan saves you $200 annually compared to your current policy while offering the same coverage.\"  \n",
    "Label: Logical appeal  \n",
    "<reason>The sentence presents a clear and measurable financial benefit ($200 savings) and directly compares it to the user’s current policy, while also providing an assurance that coverage remains unchanged. This approach relies entirely on verifiable, factual claims rather than emotional language or lifestyle framing. The persuasive force comes from the logical inference that if two options are equal in quality but one costs less, the cheaper option is preferable. This kind of reasoning appeals to rational cost–benefit analysis, which is characteristic of a logical appeal.</reason>  \n",
    "\n",
    "Example 2:  \n",
    "Sentence: \"Our company has been rated #1 in customer satisfaction for five years in a row.\"  \n",
    "Label: Credibility appeal  \n",
    "<reason>The statement uses an external, presumably reliable ranking (“#1 in customer satisfaction”) sustained over a significant period (“five years in a row”) to establish trust and authority. This is not about the emotional comfort of the user or about personal needs; rather, it’s about presenting the company as a credible and trustworthy provider based on an objective performance measure. By showing consistent recognition over multiple years, it signals reliability and industry leadership, which are core traits of a credibility appeal.</reason>  \n",
    "\n",
    "Example 3:  \n",
    "Sentence: \"With this policy, you can relax knowing your family is protected in any situation.\"  \n",
    "Label: Emotional appeal  \n",
    "<reason>This sentence primarily targets the reader’s emotions, specifically feelings of safety, comfort, and peace of mind. It does not rely on statistics, factual comparisons, or credentials; instead, it paints a reassuring scenario where the user can “relax” because their “family is protected.” The emotional core lies in evoking the relief and security one feels when loved ones are safeguarded. This is a direct attempt to influence the decision by appealing to the desire for emotional stability and personal well-being, making it a classic example of an emotional appeal.</reason>  \n",
    "\n",
    "Example 4: \n",
    "Sentence: \"If you enjoy weekend camping trips, this plan covers damage from off-road driving.\"\n",
    "Label: Persona appeal\n",
    "<reason>The sentence clearly ties the insurance plan’s benefits to a specific lifestyle and recreational activity—weekend camping trips combined with off-road driving. Rather than appealing to the user’s emotions or providing factual comparisons, it frames the plan as particularly suited to individuals whose hobbies and identity involve outdoor adventure. This creates a sense of personal relevance based on lifestyle alignment: if the listener identifies with this activity, the plan will feel naturally “for them.” Such targeting based on hobbies, identity, or habitual activities is the hallmark of a persona appeal.</reason>  \n",
    "\n",
    "Example 5: \n",
    "Sentence: \"Coverage applies to vehicles up to 10 years old, with claims processed within 7 business days.\"\n",
    "Label: Default\n",
    "<reason>This statement is purely informational, providing specific operational details about the policy—vehicle age limit and claim processing timeframe. It does not attempt to influence the decision through emotional triggers, credibility signals, or lifestyle connections. Nor does it present a comparative or cost–benefit argument; it simply conveys service terms in a factual manner. Because the language is neutral and the intent is to inform rather than persuade, it fits the definition of a default case, where content is descriptive without embedded persuasive strategy.</reason>  \n",
    "\n",
    "Now, identify the persuasion strategy and give the reasoning inside <reason> tags as instructed.  \n",
    "\n",
    "Sentence: \"{sentence}\"  \n",
    "Label:  \n",
    "<reason></reason>  \n",
    "\"\"\"\n",
    "  \n",
    "    messages = [\n",
    "        {\"role\": \"system\", \"content\": \"you are a helpful assistant. Label the utterance based on Persuasion Strategy and provide the reason\"},\n",
    "        {\"role\": \"user\",  \"content\": prompt},\n",
    "    ]\n",
    "\n",
    "    output = pipe(messages, **generation_args)\n",
    "    response= output[0]['generated_text']\n",
    "    return response.strip()\n"
   ]
  },
  {
   "cell_type": "code",
   "execution_count": 4,
   "id": "a87639c6",
   "metadata": {},
   "outputs": [
    {
     "name": "stdout",
     "output_type": "stream",
     "text": [
      "Label: Emotional appeal  \n",
      "<reason>The sentence is designed to evoke an emotional response from the reader, particularly feelings of safety and security in potentially distressing situations (being stranded after an accident). The use of phrases like \"Imagine being stranded,\" \"help is just one call away,\" \"you and your loved ones are protected,\" and \"you can focus on the journey, not the what-ifs\" are all emotionally charged, aiming to create a sense of comfort and reassurance. Rather than discussing factual elements or the user's specific needs or lifestyle, the sentence seeks to persuade through the promise of emotional peace of mind. This approach is characteristic of an emotional appeal, as it leverages emotional resonance to influence the reader's decision.</reason>\n"
     ]
    }
   ],
   "source": [
    "print(generate(\"Imagine being stranded after an accident and knowing help is just one call away. Our cover ensures you and your loved ones are protected at all times, so you can focus on the journey, not the what-ifs\"))"
   ]
  },
  {
   "cell_type": "code",
   "execution_count": 5,
   "id": "2780a871",
   "metadata": {},
   "outputs": [],
   "source": [
    "import pandas as pd\n",
    "import os\n",
    "import re\n",
    "\n",
    "# Regex patterns to parse the extract() output\n",
    "LABEL_RE = re.compile(r\"Label\\s*:\\s*(.+?)(?:\\s*(?:\\n|$|<))\", re.IGNORECASE | re.DOTALL)\n",
    "REASON_RE = re.compile(r\"<reason>(.*?)</reason>\", re.IGNORECASE | re.DOTALL)\n",
    "\n",
    "def parse_extraction(text: str) ->tuple:\n",
    "    \"\"\"Extract label and reason from the returned string.\"\"\"\n",
    "    if not text:\n",
    "        return \"\", \"\"\n",
    "    m_label = LABEL_RE.search(text)\n",
    "    m_reason = REASON_RE.search(text)\n",
    "    label = m_label.group(1).strip() if m_label else \"\"\n",
    "    reason = m_reason.group(1).strip() if m_reason else \"\"\n",
    "    return label, reason\n",
    "\n",
    "def process_csv_with_pandas(input_path: str, output_path: str, start_from: int = 0):\n",
    "    \"\"\"\n",
    "    Reads input CSV, processes each row, and writes to output CSV incrementally.\n",
    "    Requires an extract(sentence) or generate(sentence) function in scope.\n",
    "\n",
    "    Args:\n",
    "        input_path: Path to input CSV\n",
    "        output_path: Path to output CSV\n",
    "        start_from: Row index (0-based) to start processing from\n",
    "    \"\"\"\n",
    "    # Check if we are resuming or starting fresh\n",
    "    if os.path.exists(output_path):\n",
    "        processed_df = pd.read_csv(output_path)\n",
    "        processed_count = len(processed_df)\n",
    "    else:\n",
    "        processed_df = pd.DataFrame()\n",
    "        processed_count = 0\n",
    "\n",
    "    # Read the whole input file\n",
    "    df = pd.read_csv(input_path)\n",
    "    if \"new_agent_reply\" not in df.columns:\n",
    "        raise KeyError(\"Input CSV must contain a 'new_agent_reply' column.\")\n",
    "\n",
    "    # Determine actual starting point\n",
    "    start_index = max(start_from, processed_count)\n",
    "\n",
    "    # Process remaining rows one by one\n",
    "    for idx in range(start_index, len(df)):\n",
    "        sentence = str(df.loc[idx, \"new_agent_reply\"]).strip()\n",
    "        result = generate(sentence)  # <-- your function here\n",
    "        label, reason = parse_extraction(result)\n",
    "\n",
    "        # Append label & reason to dataframe\n",
    "        row = df.loc[[idx]].copy()\n",
    "        row[\"label\"] = label\n",
    "        row[\"reason\"] = reason\n",
    "\n",
    "        # Append to the processed dataframe\n",
    "        processed_df = pd.concat([processed_df, row], ignore_index=True)\n",
    "\n",
    "        # Write back to CSV immediately so you can check progress\n",
    "        processed_df.to_csv(output_path, index=False)\n",
    "        os.sync()  # Force write to disk on some systems\n",
    "\n",
    "    print(f\"Processing complete. Output saved to {output_path}\")\n",
    "\n"
   ]
  },
  {
   "cell_type": "code",
   "execution_count": 6,
   "id": "4ca8bc94",
   "metadata": {},
   "outputs": [
    {
     "name": "stderr",
     "output_type": "stream",
     "text": [
      "You seem to be using the pipelines sequentially on GPU. In order to maximize efficiency please use a dataset\n"
     ]
    },
    {
     "name": "stdout",
     "output_type": "stream",
     "text": [
      "Processing complete. Output saved to /DATA/rohan_kirti/niladri/Expert Datatset/Engagement/phi_results.csv\n"
     ]
    }
   ],
   "source": [
    "input_path=\"/DATA/rohan_kirti/niladri/Expert Datatset/Book1.csv\"\n",
    "output_path=\"/DATA/rohan_kirti/niladri/Expert Datatset/Engagement/phi_results.csv\"\n",
    "process_csv_with_pandas(input_path, output_path, start_from=0)"
   ]
  }
 ],
 "metadata": {
  "kernelspec": {
   "display_name": "Python 3 (ipykernel)",
   "language": "python",
   "name": "python3"
  }
 },
 "nbformat": 4,
 "nbformat_minor": 5
}
