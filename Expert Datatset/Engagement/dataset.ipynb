{
 "cells": [
  {
   "cell_type": "code",
   "execution_count": 1,
   "id": "d81fcd20",
   "metadata": {},
   "outputs": [
    {
     "name": "stdout",
     "output_type": "stream",
     "text": [
      "Loading model and tokenizer...\n"
     ]
    },
    {
     "name": "stderr",
     "output_type": "stream",
     "text": [
      "/DATA/rohan_kirti/miniconda3/envs/nilenv/lib/python3.11/site-packages/tqdm/auto.py:21: TqdmWarning: IProgress not found. Please update jupyter and ipywidgets. See https://ipywidgets.readthedocs.io/en/stable/user_install.html\n",
      "  from .autonotebook import tqdm as notebook_tqdm\n",
      "Loading checkpoint shards: 100%|██████████| 6/6 [00:07<00:00,  1.31s/it]\n"
     ]
    }
   ],
   "source": [
    "print(\"Loading model and tokenizer...\")\n",
    "import torch\n",
    "from transformers import AutoModelForCausalLM, AutoTokenizer, pipeline\n",
    "\n",
    "model_name = \"microsoft/Phi-3-medium-128k-instruct\"\n",
    "\n",
    "model = AutoModelForCausalLM.from_pretrained(\n",
    "    model_name,\n",
    "    torch_dtype=\"auto\",\n",
    "    device_map=\"auto\"\n",
    ")\n",
    "tokenizer = AutoTokenizer.from_pretrained(model_name)\n"
   ]
  },
  {
   "cell_type": "code",
   "execution_count": 2,
   "id": "32ea63dc",
   "metadata": {},
   "outputs": [
    {
     "name": "stderr",
     "output_type": "stream",
     "text": [
      "Device set to use cuda:0\n"
     ]
    }
   ],
   "source": [
    "pipe = pipeline(\n",
    "    \"text-generation\",\n",
    "    model=model,\n",
    "    tokenizer=tokenizer,\n",
    ")\n",
    "\n",
    "generation_args = {\n",
    "    \"max_new_tokens\": 500,\n",
    "    \"return_full_text\": False,\n",
    "    \"temperature\": 0.7,\n",
    "    \"do_sample\": True,\n",
    "}"
   ]
  },
  {
   "cell_type": "code",
   "execution_count": 5,
   "id": "06468fe0",
   "metadata": {},
   "outputs": [],
   "source": [
    "def generate(sentence:str):\n",
    "    prompt = f\"\"\"You are a Persuasion Strategy labeling expert.\n",
    "    You are given an utterance.  \n",
    "Your task is to identify and label the persuasion strategy it uses from the defined list of six strategies.  \n",
    "You must also clearly explain why that strategy was chosen, and your explanation MUST be enclosed inside <reason> and </reason> tags exactly.  \n",
    "\n",
    "\n",
    "\n",
    " Guidelines for labeling:  \n",
    "- Read the utterance carefully and determine its primary persuasion approach.  \n",
    "- Select the persuasion strategy whose description aligns most closely with the utterance's content and intent.  \n",
    "- When writing the reasoning, explain the specific features, keywords, or message style in the utterance that make it fit the chosen persuasion strategy.  \n",
    "- The reasoning MUST be enclosed inside <reason> and </reason> tags — this is mandatory.  \n",
    "- Be concise but clear, ensuring the explanation makes it obvious why that persuasion type applies.  \n",
    "\n",
    "\n",
    "\n",
    "### Persuasion strategies:  \n",
    "\n",
    "1. Logical appeal – Uses factual reasoning, statistics, verifiable claims, comparisons, or cost–benefit arguments to persuade.  \n",
    "   - Even if one factual statement or claim is present (e.g., a price comparison, performance data, or measurable outcome), it qualifies as logical appeal, unless another strategy’s intent is more dominant.  \n",
    "   - Examples: “This plan saves you $200 annually.” / “Our product is 25% more efficient than others.”  \n",
    "\n",
    "2. Credibility appeal – Builds trust by emphasizing the trustworthiness, expertise, qualifications, or proven track record of the provider or source.  \n",
    "   - This includes references to awards, rankings, certifications, industry recognition, or customer satisfaction ratings.  \n",
    "   - Example indicators: “Rated 1 by…”, “Certified by…”, “Trusted by over 1 million customers.”  \n",
    "\n",
    "3. Emotional appeal – Persuades by evoking emotions such as safety, comfort, fear, pride, hope, or peace of mind.  \n",
    "   - Often uses reassuring or emotive language to create a personal emotional response rather than presenting objective facts.  \n",
    "   - Example indicators: “Feel secure knowing…”, “Protect what matters most…”, “Imagine the joy of…”  \n",
    "\n",
    "4. Personal appeal – Directly tailors the recommendation to the specific needs, concerns, or requests that the user has previously expressed.  \n",
    "   - This strategy explicitly references what the user wants or has stated, making it a targeted recommendation.  \n",
    "   - Example indicators: “Since you said you travel frequently…”, “Because you prefer low-maintenance options…”  \n",
    "\n",
    "5. Persona appeal – Connects the recommendation to the user’s lifestyle, habits, values, or identity rather than a specific request.  \n",
    "   - Often uses “if you are the kind of person who…” framing or aligns features with an implied personality type.  \n",
    "   - Example indicators: “Perfect for adventure seekers…”, “If you enjoy luxury and comfort…”  \n",
    "\n",
    "6. Default – Provides neutral, purely descriptive information without persuasive elements.  \n",
    "   - No attempt to influence the decision is made; it is strictly informational.  \n",
    "   - Example indicators: “Includes liability, collision, and comprehensive coverage.”  \n",
    "\n",
    "\n",
    "\n",
    "Output format:  \n",
    "\n",
    "Label: <strategy name>  \n",
    "<reason>Reasoning for why this strategy was chosen, based on utterance features.</reason>  \n",
    "\n",
    "\n",
    "Few-shot examples:  \n",
    "\n",
    "Example 1:  \n",
    "Sentence: \"This plan saves you $200 annually compared to your current policy while offering the same coverage.\"  \n",
    "Label: Logical appeal  \n",
    "<reason>The plan presents a cost comparison and equivalent coverage, which is a fact-based logical argument.</reason>  \n",
    "\n",
    "Example 2:  \n",
    "Sentence: \"Our company has been rated #1 in customer satisfaction for five years in a row.\"  \n",
    "Label: Credibility appeal  \n",
    "<reason>It highlights proven reputation and customer satisfaction history, which builds trust and credibility.</reason>  \n",
    "\n",
    "Example 3:  \n",
    "Sentence: \"With this policy, you can relax knowing your family is protected in any situation.\"  \n",
    "Label: Emotional appeal  \n",
    "<reason>The focus is on feelings of security and reassurance, aiming to evoke emotional comfort.</reason>  \n",
    "\n",
    "Example 4:  \n",
    "Sentence: \"Since you mentioned wanting full coverage for long road trips, this plan includes unlimited roadside assistance.\"  \n",
    "Label: Personal appeal  \n",
    "<reason>The recommendation is tailored to the user's stated need for long-trip coverage and roadside support.</reason>  \n",
    "\n",
    "Example 5:  \n",
    "Sentence: \"If you enjoy weekend camping trips, this plan covers damage from off-road driving.\"  \n",
    "Label: Persona appeal  \n",
    "<reason>The plan connects to the user's lifestyle and activities, linking features to camping and off-road travel.</reason>  \n",
    "\n",
    "Example 6:  \n",
    "Sentence: \"This policy covers liability, collision, and comprehensive damage.\"  \n",
    "Label: Default  \n",
    "<reason>The policy coverage is purely informative and describes coverage without persuasive elements.</reason>  \n",
    "\n",
    "Now, identify the persuasion strategy and give the reasoning inside <reason> tags as instructed.  \n",
    "\n",
    "Sentence: \"{sentence}\"  \n",
    "Label:  \n",
    "<reason></reason>  \n",
    "\"\"\"\n",
    "\n",
    "    messages = [\n",
    "        {\"role\": \"system\", \"content\": \"you are a helpful assistant. Label the utterance based on Persuasion Strategy and provide the reason\"},\n",
    "        {\"role\": \"user\",  \"content\": prompt},\n",
    "    ]\n",
    "\n",
    "    output = pipe(messages, **generation_args)\n",
    "    response= output[0]['generated_text']\n",
    "    return response.strip()\n"
   ]
  },
  {
   "cell_type": "code",
   "execution_count": 6,
   "id": "a87639c6",
   "metadata": {},
   "outputs": [
    {
     "name": "stdout",
     "output_type": "stream",
     "text": [
      "Label: Logical appeal  \n",
      "<reason>The statement gives a factual comparison between the cost of the insurance and something familiar like a morning coffee. It also outlines the coverage details, which are verifiable claims.</reason>\n"
     ]
    }
   ],
   "source": [
    "print(generate(\"Our comprehensive motor insurance covers accidents, theft, and damage, with premiums starting from just $1.20 a day — less than your morning coffee.\"))"
   ]
  },
  {
   "cell_type": "code",
   "execution_count": 7,
   "id": "2780a871",
   "metadata": {},
   "outputs": [],
   "source": [
    "import pandas as pd\n",
    "import os\n",
    "import re\n",
    "\n",
    "# Regex patterns to parse the extract() output\n",
    "LABEL_RE = re.compile(r\"Label\\s*:\\s*(.+?)(?:\\s*(?:\\n|$|<))\", re.IGNORECASE | re.DOTALL)\n",
    "REASON_RE = re.compile(r\"<reason>(.*?)</reason>\", re.IGNORECASE | re.DOTALL)\n",
    "\n",
    "def parse_extraction(text: str) ->tuple:\n",
    "    \"\"\"Extract label and reason from the returned string.\"\"\"\n",
    "    if not text:\n",
    "        return \"\", \"\"\n",
    "    m_label = LABEL_RE.search(text)\n",
    "    m_reason = REASON_RE.search(text)\n",
    "    label = m_label.group(1).strip() if m_label else \"\"\n",
    "    reason = m_reason.group(1).strip() if m_reason else \"\"\n",
    "    return label, reason\n",
    "\n",
    "def process_csv_with_pandas(input_path: str, output_path: str, start_from: int = 0):\n",
    "    \"\"\"\n",
    "    Reads input CSV, processes each row, and writes to output CSV incrementally.\n",
    "    Requires an extract(sentence) or generate(sentence) function in scope.\n",
    "\n",
    "    Args:\n",
    "        input_path: Path to input CSV\n",
    "        output_path: Path to output CSV\n",
    "        start_from: Row index (0-based) to start processing from\n",
    "    \"\"\"\n",
    "    # Check if we are resuming or starting fresh\n",
    "    if os.path.exists(output_path):\n",
    "        processed_df = pd.read_csv(output_path)\n",
    "        processed_count = len(processed_df)\n",
    "    else:\n",
    "        processed_df = pd.DataFrame()\n",
    "        processed_count = 0\n",
    "\n",
    "    # Read the whole input file\n",
    "    df = pd.read_csv(input_path)\n",
    "    if \"new_agent_reply\" not in df.columns:\n",
    "        raise KeyError(\"Input CSV must contain a 'new_agent_reply' column.\")\n",
    "\n",
    "    # Determine actual starting point\n",
    "    start_index = max(start_from, processed_count)\n",
    "\n",
    "    # Process remaining rows one by one\n",
    "    for idx in range(start_index, len(df)):\n",
    "        sentence = str(df.loc[idx, \"new_agent_reply\"]).strip()\n",
    "        result = generate(sentence)  # <-- your function here\n",
    "        label, reason = parse_extraction(result)\n",
    "\n",
    "        # Append label & reason to dataframe\n",
    "        row = df.loc[[idx]].copy()\n",
    "        row[\"label\"] = label\n",
    "        row[\"reason\"] = reason\n",
    "\n",
    "        # Append to the processed dataframe\n",
    "        processed_df = pd.concat([processed_df, row], ignore_index=True)\n",
    "\n",
    "        # Write back to CSV immediately so you can check progress\n",
    "        processed_df.to_csv(output_path, index=False)\n",
    "        os.sync()  # Force write to disk on some systems\n",
    "\n",
    "    print(f\"Processing complete. Output saved to {output_path}\")\n",
    "\n"
   ]
  },
  {
   "cell_type": "code",
   "execution_count": 8,
   "id": "4ca8bc94",
   "metadata": {},
   "outputs": [
    {
     "name": "stderr",
     "output_type": "stream",
     "text": [
      "You seem to be using the pipelines sequentially on GPU. In order to maximize efficiency please use a dataset\n"
     ]
    },
    {
     "name": "stdout",
     "output_type": "stream",
     "text": [
      "Processing complete. Output saved to /DATA/rohan_kirti/niladri/Expert Datatset/Engagement/results.csv\n"
     ]
    }
   ],
   "source": [
    "input_path=\"/DATA/rohan_kirti/niladri/Expert Datatset/Book1.csv\"\n",
    "output_path=\"/DATA/rohan_kirti/niladri/Expert Datatset/Engagement/results.csv\"\n",
    "process_csv_with_pandas(input_path, output_path, start_from=0)"
   ]
  }
 ],
 "metadata": {
  "kernelspec": {
   "display_name": "Python 3 (ipykernel)",
   "language": "python",
   "name": "python3"
  },
  "language_info": {
   "codemirror_mode": {
    "name": "ipython",
    "version": 3
   },
   "file_extension": ".py",
   "mimetype": "text/x-python",
   "name": "python",
   "nbconvert_exporter": "python",
   "pygments_lexer": "ipython3",
   "version": "3.11.13"
  }
 },
 "nbformat": 4,
 "nbformat_minor": 5
}
