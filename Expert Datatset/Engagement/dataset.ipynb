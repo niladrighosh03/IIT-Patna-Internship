{
 "cells": [
  {
   "cell_type": "code",
   "execution_count": 1,
   "id": "d81fcd20",
   "metadata": {},
   "outputs": [
    {
     "name": "stdout",
     "output_type": "stream",
     "text": [
      "Loading model and tokenizer...\n"
     ]
    },
    {
     "name": "stderr",
     "output_type": "stream",
     "text": [
      "/DATA/rohan_kirti/miniconda3/envs/nilenv/lib/python3.11/site-packages/tqdm/auto.py:21: TqdmWarning: IProgress not found. Please update jupyter and ipywidgets. See https://ipywidgets.readthedocs.io/en/stable/user_install.html\n",
      "  from .autonotebook import tqdm as notebook_tqdm\n",
      "Loading checkpoint shards: 100%|██████████| 6/6 [00:08<00:00,  1.44s/it]\n"
     ]
    }
   ],
   "source": [
    "print(\"Loading model and tokenizer...\")\n",
    "import torch\n",
    "from transformers import AutoModelForCausalLM, AutoTokenizer, pipeline\n",
    "\n",
    "model_name = \"microsoft/Phi-3-medium-128k-instruct\"\n",
    "\n",
    "model = AutoModelForCausalLM.from_pretrained(\n",
    "    model_name,\n",
    "    torch_dtype=\"auto\",\n",
    "    device_map=\"auto\"\n",
    ")\n",
    "tokenizer = AutoTokenizer.from_pretrained(model_name)\n"
   ]
  },
  {
   "cell_type": "code",
   "execution_count": 2,
   "id": "32ea63dc",
   "metadata": {},
   "outputs": [
    {
     "name": "stderr",
     "output_type": "stream",
     "text": [
      "Device set to use cuda:0\n"
     ]
    }
   ],
   "source": [
    "pipe = pipeline(\n",
    "    \"text-generation\",\n",
    "    model=model,\n",
    "    tokenizer=tokenizer,\n",
    ")\n",
    "\n",
    "generation_args = {\n",
    "    \"max_new_tokens\": 500,\n",
    "    \"return_full_text\": False,\n",
    "    \"temperature\": 0.7,\n",
    "    \"do_sample\": True,\n",
    "}"
   ]
  },
  {
   "cell_type": "code",
   "execution_count": 3,
   "id": "06468fe0",
   "metadata": {},
   "outputs": [],
   "source": [
    "def generate(sentence:str):\n",
    "    \n",
    "    prompt = f\"\"\"You are given a sentence.  \n",
    "Your task is to identify and label the persuasion strategy it uses from the defined list of six strategies.  \n",
    "You must also clearly explain why that strategy was chosen, and your explanation MUST be enclosed inside <reason> and </reason> tags exactly.  \n",
    "\n",
    "Guidelines for labeling:  \n",
    "- Read the sentence carefully and determine its primary persuasion approach.  \n",
    "- Only select ONE label from the given six strategies.  \n",
    "- The label should match the strategy whose description aligns most closely with the intent and tone of the sentence.  \n",
    "- When writing the reasoning, explain the specific features, keywords, or message style in the sentence that make it fit the chosen persuasion strategy.  \n",
    "- The reasoning MUST be enclosed inside <reason> and </reason> tags — this is mandatory.  \n",
    "- Be concise but clear, ensuring the explanation makes it obvious why that persuasion type applies.  \n",
    "\n",
    "Persuasion strategies:  \n",
    "1. Logical appeal – Uses factual reasoning, comparisons, or cost-benefit arguments to persuade.  \n",
    "2. Credibility appeal – Highlights trustworthiness, reputation, or reliability of the provider or source.  \n",
    "3. Emotional appeal – Focuses on feelings of safety, comfort, reassurance, or peace of mind.  \n",
    "4. Personal appeal – Directly tailors the recommendation to the user’s stated needs or preferences.  \n",
    "5. Persona appeal – Aligns the recommendation with the user’s lifestyle, habits, or personal identity.  \n",
    "6. Default – Provides neutral, purely informative content without persuasion.  \n",
    "\n",
    "Output format:  \n",
    "Label: <strategy name>  \n",
    "<reason>Reasoning for why this strategy was chosen, based on sentence features.</reason>  \n",
    "\n",
    "Few-shot examples:  \n",
    "\n",
    "Example 1:  \n",
    "Sentence: \"This plan saves you $200 annually compared to your current policy while offering the same coverage.\"  \n",
    "Label: Logical appeal  \n",
    "<reason>The plan presents a cost comparison and equivalent coverage, which is a fact-based logical argument.</reason>  \n",
    "\n",
    "Example 2:  \n",
    "Sentence: \"Our company has been rated #1 in customer satisfaction for five years in a row.\"  \n",
    "Label: Credibility appeal  \n",
    "<reason>It highlights proven reputation and customer satisfaction history, which builds trust and credibility.</reason>  \n",
    "\n",
    "Example 3:  \n",
    "Sentence: \"With this policy, you can relax knowing your family is protected in any situation.\"  \n",
    "Label: Emotional appeal  \n",
    "<reason>The focus is on feelings of security and reassurance, aiming to evoke emotional comfort.</reason>  \n",
    "\n",
    "Example 4:  \n",
    "Sentence: \"Since you mentioned wanting full coverage for long road trips, this plan includes unlimited roadside assistance.\"  \n",
    "Label: Personal appeal  \n",
    "<reason>The recommendation is tailored to the user's stated need for long-trip coverage and roadside support.</reason>  \n",
    "\n",
    "Example 5:  \n",
    "Sentence: \"If you enjoy weekend camping trips, this plan covers damage from off-road driving.\"  \n",
    "Label: Persona appeal  \n",
    "<reason>The plan connects to the user's lifestyle and activities, linking features to camping and off-road travel.</reason>  \n",
    "\n",
    "Example 6:  \n",
    "Sentence: \"This policy covers liability, collision, and comprehensive damage.\"  \n",
    "Label: Default  \n",
    "<reason>The policy coverage is purely informative and describes coverage without persuasive elements.</reason>  \n",
    "\n",
    "Now, for the sentence provided below, identify the persuasion strategy and give the reasoning inside <reason> tags as instructed.  \n",
    "\n",
    "Sentence: \"{sentence}\"  \n",
    "Label:  \n",
    "<reason></reason>  \n",
    "\"\"\"\n",
    "   \n",
    "    messages = [      \n",
    "        {\"role\": \"system\", \"content\": \"you are a helpful assistant. Label the sentence based on Persuassion Strategy and provide the reason\"},\n",
    "        {\"role\": \"user\",  \"content\": prompt},\n",
    "    ]\n",
    "\n",
    "    output = pipe(messages, **generation_args)\n",
    "    response= output[0]['generated_text']\n",
    "    return response.strip()\n"
   ]
  },
  {
   "cell_type": "code",
   "execution_count": 5,
   "id": "a87639c6",
   "metadata": {},
   "outputs": [
    {
     "name": "stdout",
     "output_type": "stream",
     "text": [
      "Label: Logical appeal  \n",
      "<reason>The sentence presents a factual comparison between the cost of the insurance premium and a daily expense (morning coffee), which is a logical and cost-benefit argument.</reason>\n"
     ]
    }
   ],
   "source": [
    "print(generate(\"Our comprehensive motor insurance covers accidents, theft, and damage, with premiums starting from just $1.20 a day — less than your morning coffee.\"))"
   ]
  },
  {
   "cell_type": "code",
   "execution_count": 15,
   "id": "2780a871",
   "metadata": {},
   "outputs": [],
   "source": [
    "import pandas as pd\n",
    "import os\n",
    "import re\n",
    "\n",
    "# Regex patterns to parse the extract() output\n",
    "LABEL_RE = re.compile(r\"Label\\s*:\\s*(.+?)(?:\\s*(?:\\n|$|<))\", re.IGNORECASE | re.DOTALL)\n",
    "REASON_RE = re.compile(r\"<reason>(.*?)</reason>\", re.IGNORECASE | re.DOTALL)\n",
    "\n",
    "def parse_extraction(text: str) ->tuple:\n",
    "    \"\"\"Extract label and reason from the returned string.\"\"\"\n",
    "    if not text:\n",
    "        return \"\", \"\"\n",
    "    m_label = LABEL_RE.search(text)\n",
    "    m_reason = REASON_RE.search(text)\n",
    "    label = m_label.group(1).strip() if m_label else \"\"\n",
    "    reason = m_reason.group(1).strip() if m_reason else \"\"\n",
    "    return label, reason\n",
    "\n",
    "def process_csv_with_pandas(input_path: str, output_path: str, start_from: int = 0):\n",
    "    \"\"\"\n",
    "    Reads input CSV, processes each row, and writes to output CSV incrementally.\n",
    "    Requires an extract(sentence) or generate(sentence) function in scope.\n",
    "\n",
    "    Args:\n",
    "        input_path: Path to input CSV\n",
    "        output_path: Path to output CSV\n",
    "        start_from: Row index (0-based) to start processing from\n",
    "    \"\"\"\n",
    "    # Check if we are resuming or starting fresh\n",
    "    if os.path.exists(output_path):\n",
    "        processed_df = pd.read_csv(output_path)\n",
    "        processed_count = len(processed_df)\n",
    "    else:\n",
    "        processed_df = pd.DataFrame()\n",
    "        processed_count = 0\n",
    "\n",
    "    # Read the whole input file\n",
    "    df = pd.read_csv(input_path)\n",
    "    if \"new_agent_reply\" not in df.columns:\n",
    "        raise KeyError(\"Input CSV must contain a 'new_agent_reply' column.\")\n",
    "\n",
    "    # Determine actual starting point\n",
    "    start_index = max(start_from, processed_count)\n",
    "\n",
    "    # Process remaining rows one by one\n",
    "    for idx in range(start_index, len(df)):\n",
    "        sentence = str(df.loc[idx, \"new_agent_reply\"]).strip()\n",
    "        result = generate(sentence)  # <-- your function here\n",
    "        label, reason = parse_extraction(result)\n",
    "\n",
    "        # Append label & reason to dataframe\n",
    "        row = df.loc[[idx]].copy()\n",
    "        row[\"label\"] = label\n",
    "        row[\"reason\"] = reason\n",
    "\n",
    "        # Append to the processed dataframe\n",
    "        processed_df = pd.concat([processed_df, row], ignore_index=True)\n",
    "\n",
    "        # Write back to CSV immediately so you can check progress\n",
    "        processed_df.to_csv(output_path, index=False)\n",
    "        os.sync()  # Force write to disk on some systems\n",
    "\n",
    "    print(f\"Processing complete. Output saved to {output_path}\")\n",
    "\n"
   ]
  },
  {
   "cell_type": "code",
   "execution_count": 22,
   "id": "4ca8bc94",
   "metadata": {},
   "outputs": [
    {
     "name": "stdout",
     "output_type": "stream",
     "text": [
      "Processing complete. Output saved to /DATA/rohan_kirti/niladri/Expert Datatset/Engagement/results.csv\n"
     ]
    }
   ],
   "source": [
    "input_path=\"/DATA/rohan_kirti/niladri/Expert Datatset/Book1.csv\"\n",
    "output_path=\"/DATA/rohan_kirti/niladri/Expert Datatset/Engagement/results.csv\"\n",
    "process_csv_with_pandas(input_path, output_path, start_from=4)"
   ]
  }
 ],
 "metadata": {
  "kernelspec": {
   "display_name": "Python 3 (ipykernel)",
   "language": "python",
   "name": "python3"
  },
  "language_info": {
   "codemirror_mode": {
    "name": "ipython",
    "version": 3
   },
   "file_extension": ".py",
   "mimetype": "text/x-python",
   "name": "python",
   "nbconvert_exporter": "python",
   "pygments_lexer": "ipython3",
   "version": "3.11.13"
  }
 },
 "nbformat": 4,
 "nbformat_minor": 5
}
