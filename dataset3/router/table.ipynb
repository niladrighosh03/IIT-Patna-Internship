{
 "cells": [
  {
   "cell_type": "code",
   "execution_count": 16,
   "id": "6db0054b",
   "metadata": {},
   "outputs": [
    {
     "name": "stdout",
     "output_type": "stream",
     "text": [
      "[2, 4, 6, 8, 10, 13, 15, 17, 19, 21, 23, 27, 29, 31, 33, 35, 38, 40, 42, 44, 46]\n"
     ]
    }
   ],
   "source": [
    "import pandas as pd\n",
    "\n",
    "# Load the original CSV file\n",
    "df = pd.read_csv(\"/DATA/rohan_kirti/niladri/dataset3/conversation.csv\")  # replace with actual path if not in current directory\n",
    "\n",
    "# Prepare variables\n",
    "output_rows = []\n",
    "agent_responses = []\n",
    "\n",
    "# Temporary variables to track user query and agent reply\n",
    "current_user_query = None\n",
    "current_conversation_id = None\n",
    "record_id = 1\n",
    "\n",
    "for index, row in df.iterrows():\n",
    "    if row['speaker'] == 'User':\n",
    "        if current_user_query is not None:\n",
    "            # Save previous user query without agent reply\n",
    "            output_rows.append({\n",
    "                'id': record_id,\n",
    "                'conversation_id': current_conversation_id,\n",
    "                'user_query': current_user_query,\n",
    "                'agent_reply': ''\n",
    "            })\n",
    "            record_id += 1\n",
    "        # Start new user query\n",
    "        current_user_query = row['utterance']\n",
    "        current_conversation_id = row['conversation_id']\n",
    "    elif row['speaker'] == 'Agent':\n",
    "        \n",
    "        if current_user_query is not None:\n",
    "            agent_responses.append(row['id'])\n",
    "            # Save user query and agent reply\n",
    "            output_rows.append({\n",
    "                'id': record_id,\n",
    "                'conversation_id': current_conversation_id,\n",
    "                'user_query': current_user_query,\n",
    "                'agent_reply': row['utterance']\n",
    "            })\n",
    "            record_id += 1\n",
    "            current_user_query = None  # Reset after pairing\n",
    "\n",
    "# If last entry is a user query without an agent reply\n",
    "if current_user_query is not None:\n",
    "    output_rows.append({\n",
    "        'id': record_id,\n",
    "        'conversation_id': current_conversation_id,\n",
    "        'user_query': current_user_query,\n",
    "        'agent_reply': ''\n",
    "    })\n",
    "\n",
    "# Convert to DataFrame\n",
    "output_df = pd.DataFrame(output_rows)\n",
    "\n",
    "# Save to CSV\n",
    "output_df.to_csv(\"/DATA/rohan_kirti/niladri/dataset3/router/table_router.csv\", index=False)\n",
    "\n",
    "# Print or return list of agent responses\n",
    "print(agent_responses)\n"
   ]
  },
  {
   "cell_type": "code",
   "execution_count": 17,
   "id": "421e39e9",
   "metadata": {},
   "outputs": [
    {
     "data": {
      "text/plain": [
       "21"
      ]
     },
     "execution_count": 17,
     "metadata": {},
     "output_type": "execute_result"
    }
   ],
   "source": [
    "len(agent_responses)"
   ]
  },
  {
   "cell_type": "code",
   "execution_count": 18,
   "id": "74d2ebfe",
   "metadata": {},
   "outputs": [],
   "source": [
    "import pandas as pd\n",
    "\n",
    "# Load the CSV file\n",
    "df = pd.read_csv('/DATA/rohan_kirti/niladri/dataset3/router/table_router.csv')\n",
    "\n",
    "# Drop rows where 'agent_reply' is NaN or an empty string\n",
    "df_cleaned = df[df['agent_reply'].notna() & (df['agent_reply'].str.strip() != '')]\n",
    "\n",
    "# Save the cleaned DataFrame to a new CSV (or overwrite the original)\n",
    "df_cleaned.to_csv('/DATA/rohan_kirti/niladri/dataset3/router/table_router.csv', index=False)\n"
   ]
  },
  {
   "cell_type": "code",
   "execution_count": 19,
   "id": "7c77648f",
   "metadata": {},
   "outputs": [
    {
     "name": "stdout",
     "output_type": "stream",
     "text": [
      "21\n"
     ]
    }
   ],
   "source": [
    "import pandas as pd\n",
    "import json\n",
    "\n",
    "df=pd.read_csv(\"/DATA/rohan_kirti/niladri/dataset3/router/table_router.csv\")  # replace with actual path if not in current directory\n",
    "# Output list for matching answers\n",
    "matching_answers = []\n",
    "\n",
    "# Read and process the JSONL file\n",
    "with open('/DATA/rohan_kirti/niladri/dataset3/router/cleaned_output.jsonl', 'r') as f:\n",
    "    for line in f:\n",
    "        data = json.loads(line)\n",
    "        if data.get('id_json') in agent_responses:\n",
    "            matching_answers.append(data.get('answer'))\n",
    "print(len(matching_answers))\n",
    "df[\"router agent response\"]= matching_answers\n",
    "df.to_csv(\"/DATA/rohan_kirti/niladri/dataset3/router/table_router.csv\", index=False)"
   ]
  },
  {
   "cell_type": "code",
   "execution_count": 21,
   "id": "f14cc070",
   "metadata": {},
   "outputs": [],
   "source": [
    "import sys\n",
    "sys.path.append('/DATA/rohan_kirti/.local/lib/python3.8/site-packages')"
   ]
  },
  {
   "cell_type": "code",
   "execution_count": 22,
   "id": "03fbbc31",
   "metadata": {},
   "outputs": [],
   "source": [
    "from rouge_score import rouge_scorer\n"
   ]
  },
  {
   "cell_type": "code",
   "execution_count": 23,
   "id": "594623be",
   "metadata": {},
   "outputs": [],
   "source": [
    "import pandas as pd\n",
    "from rouge_score import rouge_scorer\n",
    "\n",
    "# Load CSV\n",
    "df = pd.read_csv(\"/DATA/rohan_kirti/niladri/dataset3/router/table_router.csv\")  # Replace with your actual file path\n",
    "\n",
    "# Initialize ROUGE scorer\n",
    "scorer = rouge_scorer.RougeScorer(['rouge1'], use_stemmer=True)\n",
    "\n",
    "# Compute ROUGE scores\n",
    "def compute_rouge(row):\n",
    "    scores = scorer.score(row['router agent response'], row['agent_reply'])\n",
    "    return scores['rouge1'].fmeasure  # You can also use .precision or .recall\n",
    "\n",
    "# Apply ROUGE calculation\n",
    "df['rouge'] = df.apply(compute_rouge, axis=1)\n",
    "\n",
    "# Save the updated DataFrame\n",
    "df.to_csv(\"/DATA/rohan_kirti/niladri/dataset3/router/table_router.csv\", index=False)"
   ]
  }
 ],
 "metadata": {
  "kernelspec": {
   "display_name": "Python 3 (ipykernel)",
   "language": "python",
   "name": "python3"
  },
  "language_info": {
   "codemirror_mode": {
    "name": "ipython",
    "version": 3
   },
   "file_extension": ".py",
   "mimetype": "text/x-python",
   "name": "python",
   "nbconvert_exporter": "python",
   "pygments_lexer": "ipython3",
   "version": "3.11.13"
  }
 },
 "nbformat": 4,
 "nbformat_minor": 5
}
