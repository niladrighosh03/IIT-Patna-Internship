{
 "cells": [
  {
   "cell_type": "code",
   "execution_count": 1,
   "id": "dc50320c",
   "metadata": {},
   "outputs": [
    {
     "name": "stderr",
     "output_type": "stream",
     "text": [
      "2025-06-23 14:55:42.728100: I tensorflow/core/util/port.cc:153] oneDNN custom operations are on. You may see slightly different numerical results due to floating-point round-off errors from different computation orders. To turn them off, set the environment variable `TF_ENABLE_ONEDNN_OPTS=0`.\n"
     ]
    }
   ],
   "source": [
    "from transformers import AutoProcessor, Gemma3ForConditionalGeneration\n",
    "import torch\n",
    "import torch.nn as nn\n"
   ]
  },
  {
   "cell_type": "code",
   "execution_count": 2,
   "id": "a5fc6f80",
   "metadata": {},
   "outputs": [
    {
     "data": {
      "application/vnd.jupyter.widget-view+json": {
       "model_id": "54318a2b7eda4979a0a2566af4141376",
       "version_major": 2,
       "version_minor": 0
      },
      "text/plain": [
       "Loading checkpoint shards:   0%|          | 0/2 [00:00<?, ?it/s]"
      ]
     },
     "metadata": {},
     "output_type": "display_data"
    },
    {
     "name": "stderr",
     "output_type": "stream",
     "text": [
      "Using a slow image processor as `use_fast` is unset and a slow processor was saved with this model. `use_fast=True` will be the default behavior in v4.48, even if the model was saved with a slow processor. This will result in minor differences in outputs. You'll still be able to use a slow processor with `use_fast=False`.\n"
     ]
    }
   ],
   "source": [
    "# Load model and processor\n",
    "model_id = \"google/gemma-3-4b-it\"\n",
    "model = Gemma3ForConditionalGeneration.from_pretrained(model_id, device_map=\"auto\").eval()\n",
    "processor = AutoProcessor.from_pretrained(model_id)\n"
   ]
  },
  {
   "cell_type": "code",
   "execution_count": 4,
   "id": "35043362",
   "metadata": {},
   "outputs": [],
   "source": [
    "\n",
    "class Gemma3Wrapper(nn.Module):\n",
    "    def __init__(self, model):\n",
    "        super().__init__()\n",
    "        self.model = model\n",
    "        # Access output (tied) embeddings\n",
    "        self.output_embeddings = model.get_output_embeddings()\n",
    "\n",
    "    def get_hidden(self, input_ids, attention_mask=None):\n",
    "        outs = self.model(\n",
    "            input_ids=input_ids,\n",
    "            attention_mask=attention_mask,\n",
    "            output_hidden_states=True,\n",
    "            return_dict=True\n",
    "        )\n",
    "        return outs.hidden_states[-1]  # [batch, seq_len, hidden_dim]\n",
    "\n",
    "    def forward_from_hidden(self, hidden_states):\n",
    "        return self.output_embeddings(hidden_states)\n"
   ]
  },
  {
   "cell_type": "code",
   "execution_count": 13,
   "id": "0794e432",
   "metadata": {},
   "outputs": [
    {
     "name": "stdout",
     "output_type": "stream",
     "text": [
      "Input Text: I need a ball because I have to leave for a football\n",
      "Predicted Next Token (after modification):  game\n"
     ]
    }
   ],
   "source": [
    "# Wrap the model\n",
    "wrapper = Gemma3Wrapper(model)\n",
    "\n",
    "# Input\n",
    "text = \"I need a ball because I have to leave for a football\"\n",
    "# inputs = processor(text, return_tensors=\"pt\").to(model.device)\n",
    "inputs = processor(text=text, return_tensors=\"pt\").to(model.device)\n",
    "\n",
    "input_ids = inputs[\"input_ids\"]\n",
    "attention_mask = inputs.get(\"attention_mask\", None)\n",
    "\n",
    "# Step 1: Get hidden states\n",
    "with torch.no_grad():\n",
    "    hidden = wrapper.get_hidden(input_ids, attention_mask)\n",
    "\n",
    "# Step 2: Modify hidden state (perturb last token)\n",
    "modified_hidden = hidden.clone()\n",
    "modified_hidden[:, -1, :] /= 75000\n",
    "# modified_hidden=hidden.clone()\n",
    "\n",
    "# Step 3: Get logits from modified hidden\n",
    "with torch.no_grad():\n",
    "    logits = wrapper.forward_from_hidden(modified_hidden)\n",
    "\n",
    "# Step 4: Predict next token\n",
    "next_token_id = torch.argmax(logits[:, -1, :], dim=-1)\n",
    "predicted_token = processor.tokenizer.decode(next_token_id)\n",
    "\n",
    "print(\"Input Text:\", text)\n",
    "print(\"Predicted Next Token (after modification):\", predicted_token)"
   ]
  }
 ],
 "metadata": {
  "kernelspec": {
   "display_name": "Python 3 (ipykernel)",
   "language": "python",
   "name": "python3"
  },
  "language_info": {
   "codemirror_mode": {
    "name": "ipython",
    "version": 3
   },
   "file_extension": ".py",
   "mimetype": "text/x-python",
   "name": "python",
   "nbconvert_exporter": "python",
   "pygments_lexer": "ipython3",
   "version": "3.11.9"
  }
 },
 "nbformat": 4,
 "nbformat_minor": 5
}
